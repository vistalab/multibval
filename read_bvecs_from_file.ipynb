{
 "metadata": {
  "name": "read_bvecs_from_file"
 },
 "nbformat": 3,
 "nbformat_minor": 0,
 "worksheets": [
  {
   "cells": [
    {
     "cell_type": "code",
     "collapsed": false,
     "input": [
      "import dipy.core.sphere as sphere\n",
      "import osmosis.viz.mpl as viz"
     ],
     "language": "python",
     "metadata": {},
     "outputs": [],
     "prompt_number": 42
    },
    {
     "cell_type": "code",
     "collapsed": false,
     "input": [
      "f = file('tensor.dat')"
     ],
     "language": "python",
     "metadata": {},
     "outputs": [],
     "prompt_number": 43
    },
    {
     "cell_type": "code",
     "collapsed": false,
     "input": [
      "l = f.readlines()"
     ],
     "language": "python",
     "metadata": {},
     "outputs": [],
     "prompt_number": 44
    },
    {
     "cell_type": "code",
     "collapsed": false,
     "input": [
      "d = {}\n",
      "for this_l in l: \n",
      "    if this_l[0] == '#':\n",
      "        pass\n",
      "    else: \n",
      "        split_l = this_l.split(' ')\n",
      "        if len(split_l)==1:\n",
      "            k = int(split_l[0])\n",
      "            v = []\n",
      "        if len(split_l)>1:\n",
      "            v.append([float(x) for x in split_l])            \n",
      "        d[k] = np.array(v)"
     ],
     "language": "python",
     "metadata": {},
     "outputs": [],
     "prompt_number": 45
    },
    {
     "cell_type": "code",
     "collapsed": false,
     "input": [
      "hs = sphere.Sphere(xyz=d[8])"
     ],
     "language": "python",
     "metadata": {},
     "outputs": [],
     "prompt_number": 46
    },
    {
     "cell_type": "code",
     "collapsed": false,
     "input": [
      "series = [hs.subdivide(n) for n in range(3)]"
     ],
     "language": "python",
     "metadata": {},
     "outputs": [],
     "prompt_number": 47
    },
    {
     "cell_type": "code",
     "collapsed": false,
     "input": [
      "ns = [len(s.vertices)for s in series]"
     ],
     "language": "python",
     "metadata": {},
     "outputs": [],
     "prompt_number": 48
    },
    {
     "cell_type": "code",
     "collapsed": false,
     "input": [
      "all_bvecs = np.concatenate([[s.x, s.y, s.z] for s in series], -1)\n",
      "all_bvecs = np.concatenate([all_bvecs, np.zeros((3,10))], -1)\n",
      "all_bvecs.shape"
     ],
     "language": "python",
     "metadata": {},
     "outputs": [
      {
       "output_type": "pyout",
       "prompt_number": 68,
       "text": [
        "(3, 132)"
       ]
      }
     ],
     "prompt_number": 68
    },
    {
     "cell_type": "code",
     "collapsed": false,
     "input": [
      "bvals = np.hstack([(i+1) * np.ones(len(series[i].x)) for i in range(len(series))])\n",
      "fig = viz.sig_in_points(all_bvecs, val=bvals, r_from_val=True, cmap=matplotlib.cm.RdYlGn)\n",
      "#fig.set_size_inches([10,10])\n",
      "ax = fig.axes[0]\n",
      "ax.plot([0],[0],[0], '*k')\n",
      "ax.view_init(60, 22)"
     ],
     "language": "python",
     "metadata": {},
     "outputs": [],
     "prompt_number": 75
    },
    {
     "cell_type": "code",
     "collapsed": false,
     "input": [
      "lengths = np.hstack([np.sqrt((2**i)) * np.ones(len(series[i].x)) for i in range(len(series))])\n",
      "lengths /= np.max(lengths)\n",
      "new_bvecs = lengths * all_bvecs"
     ],
     "language": "python",
     "metadata": {},
     "outputs": [],
     "prompt_number": 51
    },
    {
     "cell_type": "code",
     "collapsed": false,
     "input": [
      "np.dot(new_bvecs[:, 10], new_bvecs[:, 10])"
     ],
     "language": "python",
     "metadata": {},
     "outputs": [
      {
       "output_type": "pyout",
       "prompt_number": 52,
       "text": [
        "0.50000000000000011"
       ]
      }
     ],
     "prompt_number": 52
    },
    {
     "cell_type": "code",
     "collapsed": false,
     "input": [
      "lengths "
     ],
     "language": "python",
     "metadata": {},
     "outputs": [
      {
       "output_type": "pyout",
       "prompt_number": 53,
       "text": [
        "array([ 0.5       ,  0.5       ,  0.5       ,  0.5       ,  0.5       ,\n",
        "        0.5       ,  0.5       ,  0.5       ,  0.70710678,  0.70710678,\n",
        "        0.70710678,  0.70710678,  0.70710678,  0.70710678,  0.70710678,\n",
        "        0.70710678,  0.70710678,  0.70710678,  0.70710678,  0.70710678,\n",
        "        0.70710678,  0.70710678,  0.70710678,  0.70710678,  0.70710678,\n",
        "        0.70710678,  0.70710678,  0.70710678,  0.70710678,  0.70710678,\n",
        "        0.70710678,  0.70710678,  0.70710678,  0.70710678,  1.        ,\n",
        "        1.        ,  1.        ,  1.        ,  1.        ,  1.        ,\n",
        "        1.        ,  1.        ,  1.        ,  1.        ,  1.        ,\n",
        "        1.        ,  1.        ,  1.        ,  1.        ,  1.        ,\n",
        "        1.        ,  1.        ,  1.        ,  1.        ,  1.        ,\n",
        "        1.        ,  1.        ,  1.        ,  1.        ,  1.        ,\n",
        "        1.        ,  1.        ,  1.        ,  1.        ,  1.        ,\n",
        "        1.        ,  1.        ,  1.        ,  1.        ,  1.        ,\n",
        "        1.        ,  1.        ,  1.        ,  1.        ,  1.        ,\n",
        "        1.        ,  1.        ,  1.        ,  1.        ,  1.        ,\n",
        "        1.        ,  1.        ,  1.        ,  1.        ,  1.        ,\n",
        "        1.        ,  1.        ,  1.        ,  1.        ,  1.        ,\n",
        "        1.        ,  1.        ,  1.        ,  1.        ,  1.        ,\n",
        "        1.        ,  1.        ,  1.        ,  1.        ,  1.        ,\n",
        "        1.        ,  1.        ,  1.        ,  1.        ,  1.        ,\n",
        "        1.        ,  1.        ,  1.        ,  1.        ,  1.        ,\n",
        "        1.        ,  1.        ,  1.        ,  1.        ,  1.        ,\n",
        "        1.        ,  1.        ,  1.        ,  1.        ,  1.        ,\n",
        "        1.        ,  1.        ,  1.        ,  1.        ,  1.        ,\n",
        "        1.        ,  1.        ,  1.        ,  1.        ,  1.        ,\n",
        "        1.        ,  1.        ])"
       ]
      }
     ],
     "prompt_number": 53
    },
    {
     "cell_type": "code",
     "collapsed": false,
     "input": [],
     "language": "python",
     "metadata": {},
     "outputs": []
    }
   ],
   "metadata": {}
  }
 ]
}